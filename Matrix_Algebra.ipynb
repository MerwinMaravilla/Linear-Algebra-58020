{
  "nbformat": 4,
  "nbformat_minor": 0,
  "metadata": {
    "colab": {
      "name": "Matrix Algebra.ipynb",
      "provenance": [],
      "authorship_tag": "ABX9TyPCPh/f/8anDX7Hk0VkLIp4",
      "include_colab_link": true
    },
    "kernelspec": {
      "name": "python3",
      "display_name": "Python 3"
    },
    "language_info": {
      "name": "python"
    }
  },
  "cells": [
    {
      "cell_type": "markdown",
      "metadata": {
        "id": "view-in-github",
        "colab_type": "text"
      },
      "source": [
        "<a href=\"https://colab.research.google.com/github/MerwinMaravilla/Linear-Algebra-58020/blob/main/Matrix_Algebra.ipynb\" target=\"_parent\"><img src=\"https://colab.research.google.com/assets/colab-badge.svg\" alt=\"Open In Colab\"/></a>"
      ]
    },
    {
      "cell_type": "markdown",
      "metadata": {
        "id": "uMPyAwBkfodt"
      },
      "source": [
        "Python program to inverse"
      ]
    },
    {
      "cell_type": "code",
      "metadata": {
        "colab": {
          "base_uri": "https://localhost:8080/"
        },
        "id": "8g9hzO-rfuuQ",
        "outputId": "f9a75945-78d1-46f9-f7cb-b428aa1c215d"
      },
      "source": [
        "import numpy as np\n",
        "A = np.array([[2,3,4],[1,5,6],[8,9,1]])\n",
        "B = (np.linalg.inv(A))\n",
        "print(B)"
      ],
      "execution_count": 4,
      "outputs": [
        {
          "output_type": "stream",
          "name": "stdout",
          "text": [
            "[[ 0.60493827 -0.40740741  0.02469136]\n",
            " [-0.58024691  0.37037037  0.09876543]\n",
            " [ 0.38271605 -0.07407407 -0.08641975]]\n"
          ]
        }
      ]
    },
    {
      "cell_type": "markdown",
      "metadata": {
        "id": "gStjDZlNifgg"
      },
      "source": [
        "Transpose"
      ]
    },
    {
      "cell_type": "code",
      "metadata": {
        "colab": {
          "base_uri": "https://localhost:8080/"
        },
        "id": "0YEJdlMoifye",
        "outputId": "08fee64f-a926-4c11-c95c-2bb12a54f7a3"
      },
      "source": [
        "A = np.array([[2,3,4],[1,5,6],[8,9,1]])\n",
        "print(A)\n",
        "B = np.transpose(A)\n",
        "print(B)"
      ],
      "execution_count": 7,
      "outputs": [
        {
          "output_type": "stream",
          "name": "stdout",
          "text": [
            "[[2 3 4]\n",
            " [1 5 6]\n",
            " [8 9 1]]\n",
            "[[2 1 8]\n",
            " [3 5 9]\n",
            " [4 6 1]]\n"
          ]
        }
      ]
    }
  ]
}