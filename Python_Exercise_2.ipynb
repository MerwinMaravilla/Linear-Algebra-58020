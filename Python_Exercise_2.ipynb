{
  "nbformat": 4,
  "nbformat_minor": 0,
  "metadata": {
    "colab": {
      "name": "Python Exercise 2.ipynb",
      "provenance": [],
      "authorship_tag": "ABX9TyPrjqwdcRmTxzXb0qBmkKgl",
      "include_colab_link": true
    },
    "kernelspec": {
      "name": "python3",
      "display_name": "Python 3"
    },
    "language_info": {
      "name": "python"
    }
  },
  "cells": [
    {
      "cell_type": "markdown",
      "metadata": {
        "id": "view-in-github",
        "colab_type": "text"
      },
      "source": [
        "<a href=\"https://colab.research.google.com/github/MerwinMaravilla/Linear-Algebra-58020/blob/main/Python_Exercise_2.ipynb\" target=\"_parent\"><img src=\"https://colab.research.google.com/assets/colab-badge.svg\" alt=\"Open In Colab\"/></a>"
      ]
    },
    {
      "cell_type": "markdown",
      "metadata": {
        "id": "IrRedfyjK1U5"
      },
      "source": [
        ""
      ]
    },
    {
      "cell_type": "markdown",
      "metadata": {
        "id": "ZlDUSJ8vK3Zi"
      },
      "source": [
        "Vector Spaces and it Operations\n"
      ]
    },
    {
      "cell_type": "code",
      "metadata": {
        "colab": {
          "base_uri": "https://localhost:8080/"
        },
        "id": "Tru06oqOLFRx",
        "outputId": "7f1a196a-0208-4f78-c83c-0abde7a4db3a"
      },
      "source": [
        "import numpy as np\n",
        "A = np.array([4,3])\n",
        "B = np.array([2,-5])\n",
        "\n",
        "print(\"Vector A is\" , A)\n",
        "print(\"Vector B is\" , B)"
      ],
      "execution_count": 3,
      "outputs": [
        {
          "output_type": "stream",
          "name": "stdout",
          "text": [
            "Vector A is [4 3]\n",
            "Vector B is [ 2 -5]\n"
          ]
        }
      ]
    },
    {
      "cell_type": "code",
      "metadata": {
        "colab": {
          "base_uri": "https://localhost:8080/"
        },
        "id": "bamfmQBnLFUA",
        "outputId": "9a953a6e-8b16-4bfb-aa50-3d1932a2166d"
      },
      "source": [
        "ball1 = np.array([[1,2,3]])\n",
        "ball2 = np.array([[1,2,3]])\n",
        "pool = np.array([ball1,ball2])\n",
        "pool.shape\n",
        "pool.size\n",
        "print(pool.shape)\n",
        "print(pool.size)"
      ],
      "execution_count": 4,
      "outputs": [
        {
          "output_type": "stream",
          "name": "stdout",
          "text": [
            "(2, 1, 3)\n",
            "6\n"
          ]
        }
      ]
    },
    {
      "cell_type": "code",
      "metadata": {
        "colab": {
          "base_uri": "https://localhost:8080/"
        },
        "id": "OxsbiFVgLljl",
        "outputId": "933756a3-1a0b-4420-ea28-de6d513f2dbf"
      },
      "source": [
        "R = A+B\n",
        "print(R)"
      ],
      "execution_count": 5,
      "outputs": [
        {
          "output_type": "stream",
          "name": "stdout",
          "text": [
            "[ 6 -2]\n"
          ]
        }
      ]
    },
    {
      "cell_type": "code",
      "metadata": {
        "colab": {
          "base_uri": "https://localhost:8080/"
        },
        "id": "nubDI2TGLlrA",
        "outputId": "5748a669-2803-4f70-eee9-1ab2c7c5bf59"
      },
      "source": [
        "R = np.add(A,B)\n",
        "R"
      ],
      "execution_count": 6,
      "outputs": [
        {
          "output_type": "execute_result",
          "data": {
            "text/plain": [
              "array([ 6, -2])"
            ]
          },
          "metadata": {},
          "execution_count": 6
        }
      ]
    },
    {
      "cell_type": "markdown",
      "metadata": {
        "id": "71BY7FMoLpeG"
      },
      "source": [
        "Vector Subtraction\n",
        "\n"
      ]
    },
    {
      "cell_type": "code",
      "metadata": {
        "colab": {
          "base_uri": "https://localhost:8080/"
        },
        "id": "JWIYLVbnMTKZ",
        "outputId": "05197747-cc0a-4e85-d272-cc761a59838f"
      },
      "source": [
        "R = np.subtract(A,B)\n",
        "R"
      ],
      "execution_count": 7,
      "outputs": [
        {
          "output_type": "execute_result",
          "data": {
            "text/plain": [
              "array([2, 8])"
            ]
          },
          "metadata": {},
          "execution_count": 7
        }
      ]
    },
    {
      "cell_type": "markdown",
      "metadata": {
        "id": "kEZuNupZMwHi"
      },
      "source": [
        "Vector Scaling"
      ]
    },
    {
      "cell_type": "code",
      "metadata": {
        "colab": {
          "base_uri": "https://localhost:8080/"
        },
        "id": "kL1lnvprMTkN",
        "outputId": "9ae709b1-a366-4688-de13-32e11616936a"
      },
      "source": [
        "A = np.array([1,5,8,9])\n",
        "S = 5*A\n",
        "print(S)"
      ],
      "execution_count": 8,
      "outputs": [
        {
          "output_type": "stream",
          "name": "stdout",
          "text": [
            "[ 5 25 40 45]\n"
          ]
        }
      ]
    },
    {
      "cell_type": "code",
      "metadata": {
        "colab": {
          "base_uri": "https://localhost:8080/"
        },
        "id": "HocwjNsmMTsi",
        "outputId": "76062b1d-a9d8-4854-b3ac-792fe2d5d6cd"
      },
      "source": [
        "S = np.multiply(5,A)\n",
        "print(S)"
      ],
      "execution_count": 9,
      "outputs": [
        {
          "output_type": "stream",
          "name": "stdout",
          "text": [
            "[ 5 25 40 45]\n"
          ]
        }
      ]
    },
    {
      "cell_type": "markdown",
      "metadata": {
        "id": "P3LDBUaUOfbd"
      },
      "source": [
        "Vector Cross Product"
      ]
    },
    {
      "cell_type": "code",
      "metadata": {
        "colab": {
          "base_uri": "https://localhost:8080/"
        },
        "id": "LL_5NfmXOjkq",
        "outputId": "24395238-5de3-4d13-c716-211575799c1e"
      },
      "source": [
        "#initialize arrays\n",
        "A = np.array([2,3,4])\n",
        "B = np.array([1,7,0])\n",
        "\n",
        "#compute cross product\n",
        "output = np.cross(A,B)\n",
        "print(output)"
      ],
      "execution_count": 10,
      "outputs": [
        {
          "output_type": "stream",
          "name": "stdout",
          "text": [
            "[-28   4  11]\n"
          ]
        }
      ]
    },
    {
      "cell_type": "code",
      "metadata": {
        "colab": {
          "base_uri": "https://localhost:8080/"
        },
        "id": "ACCWbADzOjvK",
        "outputId": "c05db061-f8ba-4f2f-b7c3-65876c6d9dc9"
      },
      "source": [
        "output = np.dot(A,B) #compute the dot product of A and B\n",
        "print(output)"
      ],
      "execution_count": 11,
      "outputs": [
        {
          "output_type": "stream",
          "name": "stdout",
          "text": [
            "23\n"
          ]
        }
      ]
    }
  ]
}