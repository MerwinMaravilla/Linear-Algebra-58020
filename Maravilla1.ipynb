{
  "nbformat": 4,
  "nbformat_minor": 0,
  "metadata": {
    "colab": {
      "name": "Maravilla1.ipynb",
      "provenance": [],
      "authorship_tag": "ABX9TyNFJFYJD2B3MNTcLCIcBZBA",
      "include_colab_link": true
    },
    "kernelspec": {
      "name": "python3",
      "display_name": "Python 3"
    },
    "language_info": {
      "name": "python"
    }
  },
  "cells": [
    {
      "cell_type": "markdown",
      "metadata": {
        "id": "view-in-github",
        "colab_type": "text"
      },
      "source": [
        "<a href=\"https://colab.research.google.com/github/MerwinMaravilla/Linear-Algebra-58020/blob/main/Maravilla1.ipynb\" target=\"_parent\"><img src=\"https://colab.research.google.com/assets/colab-badge.svg\" alt=\"Open In Colab\"/></a>"
      ]
    },
    {
      "cell_type": "code",
      "metadata": {
        "colab": {
          "base_uri": "https://localhost:8080/"
        },
        "id": "Re3BQFVBRUcw",
        "outputId": "b2043391-51c2-414d-ec55-a4110df0b13c"
      },
      "source": [
        "myvar = \"Win\"\n",
        "print(myvar)"
      ],
      "execution_count": null,
      "outputs": [
        {
          "output_type": "stream",
          "text": [
            "Win\n"
          ],
          "name": "stdout"
        }
      ]
    },
    {
      "cell_type": "code",
      "metadata": {
        "colab": {
          "base_uri": "https://localhost:8080/"
        },
        "id": "4TBelXr7Rdx8",
        "outputId": "e50e2bb1-0b69-4d4b-ccff-acc2060a6cdf"
      },
      "source": [
        "#Casting\n",
        "x = \"Sally\" # This is a type of string\n",
        "x = int(5.)\n",
        "print(x)"
      ],
      "execution_count": null,
      "outputs": [
        {
          "output_type": "stream",
          "text": [
            "5\n"
          ],
          "name": "stdout"
        }
      ]
    },
    {
      "cell_type": "code",
      "metadata": {
        "colab": {
          "base_uri": "https://localhost:8080/"
        },
        "id": "kjHo9GhQRoGD",
        "outputId": "66c5f425-cdf3-4d1c-e2d4-7b750e763846"
      },
      "source": [
        "x = \"Sally\" \n",
        "x = float(5.)\n",
        "print(x)"
      ],
      "execution_count": null,
      "outputs": [
        {
          "output_type": "stream",
          "text": [
            "5.0\n"
          ],
          "name": "stdout"
        }
      ]
    },
    {
      "cell_type": "code",
      "metadata": {
        "colab": {
          "base_uri": "https://localhost:8080/"
        },
        "id": "8SMcd_3YRoTH",
        "outputId": "28ae96ea-9833-4a48-f266-3d1de0ae18f1"
      },
      "source": [
        "x = \"Sally\" \n",
        "x = int(4.585)\n",
        "x = \"John\"\n",
        "print(type(x))"
      ],
      "execution_count": null,
      "outputs": [
        {
          "output_type": "stream",
          "text": [
            "<class 'str'>\n"
          ],
          "name": "stdout"
        }
      ]
    },
    {
      "cell_type": "code",
      "metadata": {
        "colab": {
          "base_uri": "https://localhost:8080/"
        },
        "id": "fAka3hE7R0pf",
        "outputId": "fa766fc7-18b8-4b6d-b24a-413b167e9196"
      },
      "source": [
        "#Multiple Variables\n",
        "x, y, z = 'two', 'one', 'three'\n",
        "print(x)\n",
        "print(y)\n",
        "print(z)"
      ],
      "execution_count": null,
      "outputs": [
        {
          "output_type": "stream",
          "text": [
            "two\n",
            "one\n",
            "three\n"
          ],
          "name": "stdout"
        }
      ]
    },
    {
      "cell_type": "code",
      "metadata": {
        "colab": {
          "base_uri": "https://localhost:8080/"
        },
        "id": "NHXaTYfDR7Gb",
        "outputId": "9b0579e9-fc6e-4b04-9f89-766c97229276"
      },
      "source": [
        "x=y=z= 'five'\n",
        "print(x)\n",
        "print(y)\n",
        "print(z)"
      ],
      "execution_count": null,
      "outputs": [
        {
          "output_type": "stream",
          "text": [
            "five\n",
            "five\n",
            "five\n"
          ],
          "name": "stdout"
        }
      ]
    },
    {
      "cell_type": "code",
      "metadata": {
        "colab": {
          "base_uri": "https://localhost:8080/"
        },
        "id": "g4KmSTmJSCip",
        "outputId": "12f595b6-9700-4915-8a84-d6efb91dfb97"
      },
      "source": [
        "x = \"exciting\" # This is a type of string\n",
        "print(\"Python programming is \" +x)"
      ],
      "execution_count": null,
      "outputs": [
        {
          "output_type": "stream",
          "text": [
            "Python programming is exciting\n"
          ],
          "name": "stdout"
        }
      ]
    },
    {
      "cell_type": "code",
      "metadata": {
        "colab": {
          "base_uri": "https://localhost:8080/"
        },
        "id": "USQ6Wv9gSG81",
        "outputId": "8077b76e-5663-4e4a-8f73-1966412134f4"
      },
      "source": [
        "#@title Default title text\n",
        "x = \"exciting\" # this is type of string\n",
        "print(\"Phython programming is\" \" \" + x)"
      ],
      "execution_count": null,
      "outputs": [
        {
          "output_type": "stream",
          "text": [
            "Phython programming is exciting\n"
          ],
          "name": "stdout"
        }
      ]
    },
    {
      "cell_type": "code",
      "metadata": {
        "colab": {
          "base_uri": "https://localhost:8080/"
        },
        "id": "ztXw_MpsSHFu",
        "outputId": "edff00e9-2a47-4313-856c-4174f0ccec4e"
      },
      "source": [
        "x = 5\n",
        "y = 6\n",
        "x>5 and y>6"
      ],
      "execution_count": null,
      "outputs": [
        {
          "output_type": "execute_result",
          "data": {
            "text/plain": [
              "False"
            ]
          },
          "metadata": {},
          "execution_count": 9
        }
      ]
    },
    {
      "cell_type": "code",
      "metadata": {
        "colab": {
          "base_uri": "https://localhost:8080/"
        },
        "id": "EGPxwAnKSHMu",
        "outputId": "2bf44850-1198-44d4-a3aa-d8a2b87580d8"
      },
      "source": [
        "x = 5\n",
        "y = 8\n",
        "x>7 and y>6"
      ],
      "execution_count": null,
      "outputs": [
        {
          "output_type": "execute_result",
          "data": {
            "text/plain": [
              "False"
            ]
          },
          "metadata": {},
          "execution_count": 11
        }
      ]
    },
    {
      "cell_type": "code",
      "metadata": {
        "colab": {
          "base_uri": "https://localhost:8080/"
        },
        "id": "x10OLlVlSk6h",
        "outputId": "478c04f8-fc30-4997-a097-f2f5fb17a3d8"
      },
      "source": [
        "#Identity Operator\n",
        "x = float(6)\n",
        "y = 8\n",
        "x is y"
      ],
      "execution_count": null,
      "outputs": [
        {
          "output_type": "execute_result",
          "data": {
            "text/plain": [
              "False"
            ]
          },
          "metadata": {},
          "execution_count": 12
        }
      ]
    },
    {
      "cell_type": "code",
      "metadata": {
        "colab": {
          "base_uri": "https://localhost:8080/"
        },
        "id": "W2-7AEb4SlC3",
        "outputId": "615946ec-6e75-4ac3-8336-e4e8b46fb93d"
      },
      "source": [
        "x = float(6)\n",
        "y = 8\n",
        "x is not y"
      ],
      "execution_count": null,
      "outputs": [
        {
          "output_type": "execute_result",
          "data": {
            "text/plain": [
              "True"
            ]
          },
          "metadata": {},
          "execution_count": 13
        }
      ]
    }
  ]
}