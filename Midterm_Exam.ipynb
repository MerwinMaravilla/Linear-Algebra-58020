{
  "nbformat": 4,
  "nbformat_minor": 0,
  "metadata": {
    "colab": {
      "name": "Midterm Exam.ipynb",
      "provenance": [],
      "authorship_tag": "ABX9TyPkcsLTlBtM8Lx6/4rMyAQZ",
      "include_colab_link": true
    },
    "kernelspec": {
      "name": "python3",
      "display_name": "Python 3"
    },
    "language_info": {
      "name": "python"
    }
  },
  "cells": [
    {
      "cell_type": "markdown",
      "metadata": {
        "id": "view-in-github",
        "colab_type": "text"
      },
      "source": [
        "<a href=\"https://colab.research.google.com/github/MerwinMaravilla/Linear-Algebra-58020/blob/main/Midterm_Exam.ipynb\" target=\"_parent\"><img src=\"https://colab.research.google.com/assets/colab-badge.svg\" alt=\"Open In Colab\"/></a>"
      ]
    },
    {
      "cell_type": "code",
      "metadata": {
        "colab": {
          "base_uri": "https://localhost:8080/"
        },
        "id": "DGyVPq4P7FWo",
        "outputId": "a1dd41e8-7f8f-44de-bcc9-57465d98a0bf"
      },
      "source": [
        "#question1\n",
        "import numpy as np\n",
        "A = np.array([[1,2,3,4,5],[6,7,8,9,10],[11,12,13,14,15],[16,17,18,19,20],[0,1,2,3,4]])\n",
        "#print square matrix \n",
        "print(A)"
      ],
      "execution_count": 3,
      "outputs": [
        {
          "output_type": "stream",
          "name": "stdout",
          "text": [
            "[[ 1  2  3  4  5]\n",
            " [ 6  7  8  9 10]\n",
            " [11 12 13 14 15]\n",
            " [16 17 18 19 20]\n",
            " [ 0  1  2  3  4]]\n"
          ]
        }
      ]
    },
    {
      "cell_type": "code",
      "metadata": {
        "colab": {
          "base_uri": "https://localhost:8080/"
        },
        "id": "CmReInUi7Svt",
        "outputId": "948bd83f-402d-47a1-f875-31d2bde92ac0"
      },
      "source": [
        "#question2\n",
        "import numpy as np \n",
        "A = np.array([[1,1,1,1],[0,1,1,1],[0,0,1,1],[0,0,0,1]])\n",
        "print(A)"
      ],
      "execution_count": 4,
      "outputs": [
        {
          "output_type": "stream",
          "name": "stdout",
          "text": [
            "[[1 1 1 1]\n",
            " [0 1 1 1]\n",
            " [0 0 1 1]\n",
            " [0 0 0 1]]\n"
          ]
        }
      ]
    },
    {
      "cell_type": "code",
      "metadata": {
        "colab": {
          "base_uri": "https://localhost:8080/"
        },
        "id": "8tqgdzgG7S_q",
        "outputId": "da788904-0928-48da-91e7-745f39390624"
      },
      "source": [
        "#question3\n",
        "import numpy as np\n",
        "\n",
        "A =np.array([[6,1,6],[1,5,2],[6,2,7]])\n",
        "print(A)\n",
        "print(\"/n\")\n",
        "#prints transpose matrix\n",
        "\n",
        "print(np.transpose(A))\n"
      ],
      "execution_count": 15,
      "outputs": [
        {
          "output_type": "stream",
          "name": "stdout",
          "text": [
            "[[6 1 6]\n",
            " [1 5 2]\n",
            " [6 2 7]]\n",
            "/n\n",
            "[[6 1 6]\n",
            " [1 5 2]\n",
            " [6 2 7]]\n"
          ]
        }
      ]
    },
    {
      "cell_type": "code",
      "metadata": {
        "colab": {
          "base_uri": "https://localhost:8080/"
        },
        "id": "Q7JTntMS7TLB",
        "outputId": "4c822a17-ff2b-4d8a-d841-2e25affc906e"
      },
      "source": [
        "#question4\n",
        "import numpy as np\n",
        "A = np.array([[1,2,3],[2,3,3],[3,4,-2]])\n",
        "B = (np.linalg.inv(A))\n",
        "# print inverse matrix\n",
        "print(B)"
      ],
      "execution_count": 1,
      "outputs": [
        {
          "output_type": "stream",
          "name": "stdout",
          "text": [
            "[[-3.6  3.2 -0.6]\n",
            " [ 2.6 -2.2  0.6]\n",
            " [-0.2  0.4 -0.2]]\n"
          ]
        }
      ]
    },
    {
      "cell_type": "code",
      "metadata": {
        "colab": {
          "base_uri": "https://localhost:8080/"
        },
        "id": "XPNbK3xP8Ebm",
        "outputId": "5d6bcb6a-eabc-4f7a-ac63-c6721d660261"
      },
      "source": [
        "#question5\n",
        "import numpy as np\n",
        "A = np.array([[1,2,3],[2,3,3],[3,4,-2]])\n",
        "#printd determinant matrix\n",
        "print(A)\n",
        "print(np.linalg.det(A))\n",
        "print(round(np.linalg.det(A)))"
      ],
      "execution_count": 2,
      "outputs": [
        {
          "output_type": "stream",
          "name": "stdout",
          "text": [
            "[[ 1  2  3]\n",
            " [ 2  3  3]\n",
            " [ 3  4 -2]]\n",
            "5.000000000000001\n",
            "5\n"
          ]
        }
      ]
    },
    {
      "cell_type": "code",
      "metadata": {
        "colab": {
          "base_uri": "https://localhost:8080/"
        },
        "id": "gJPk0UiU95Np",
        "outputId": "900f378b-ade2-454e-e666-ac34df1dbb6d"
      },
      "source": [
        "#question6\n",
        "import numpy as np\n",
        "c= np.array([[5,4,1],[10,9,4],[10,13,15]])\n",
        "inv_c = np.linalg.inv(c)\n",
        "print(c)\n",
        "print()\n",
        "print(inv_c)\n",
        "\n",
        "d = np.array([[3,4],[8,8],[19,2]])\n",
        "\n",
        "x=np.dot(inv_c, d)\n",
        "print(\"roots =\")\n",
        "print(x)\n",
        "\n",
        "z=np.dot(c,x) #checking\n",
        "print(\"checking\")\n",
        "print(z)"
      ],
      "execution_count": 19,
      "outputs": [
        {
          "output_type": "stream",
          "name": "stdout",
          "text": [
            "[[ 5  4  1]\n",
            " [10  9  4]\n",
            " [10 13 15]]\n",
            "\n",
            "[[ 5.53333333 -3.13333333  0.46666667]\n",
            " [-7.33333333  4.33333333 -0.66666667]\n",
            " [ 2.66666667 -1.66666667  0.33333333]]\n",
            "roots =\n",
            "[[ 4.00000000e-01 -2.00000000e+00]\n",
            " [-1.66533454e-15  4.00000000e+00]\n",
            " [ 1.00000000e+00 -2.00000000e+00]]\n",
            "checking\n",
            "[[ 3.  4.]\n",
            " [ 8.  8.]\n",
            " [19.  2.]]\n"
          ]
        }
      ]
    }
  ]
}