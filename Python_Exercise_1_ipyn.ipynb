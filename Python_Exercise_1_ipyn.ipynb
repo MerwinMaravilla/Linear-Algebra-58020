{
  "nbformat": 4,
  "nbformat_minor": 0,
  "metadata": {
    "colab": {
      "name": " Python Exercise 1.ipyn",
      "provenance": [],
      "authorship_tag": "ABX9TyOUAwku77ckQAWkqB7KVBkz",
      "include_colab_link": true
    },
    "kernelspec": {
      "name": "python3",
      "display_name": "Python 3"
    },
    "language_info": {
      "name": "python"
    }
  },
  "cells": [
    {
      "cell_type": "markdown",
      "metadata": {
        "id": "view-in-github",
        "colab_type": "text"
      },
      "source": [
        "<a href=\"https://colab.research.google.com/github/MerwinMaravilla/Linear-Algebra-58020/blob/main/Python_Exercise_1_ipyn.ipynb\" target=\"_parent\"><img src=\"https://colab.research.google.com/assets/colab-badge.svg\" alt=\"Open In Colab\"/></a>"
      ]
    },
    {
      "cell_type": "code",
      "metadata": {
        "colab": {
          "base_uri": "https://localhost:8080/"
        },
        "id": "61mezqMZPdro",
        "outputId": "34ab611e-3a4e-4d1f-ea67-ef3a86b97e37"
      },
      "source": [
        "import numpy as np\n",
        "A = np.array([[-5,0],[4,1]])\n",
        "B = np.array([[6,-3],[2,3]])\n",
        "print(A+B)"
      ],
      "execution_count": 6,
      "outputs": [
        {
          "output_type": "stream",
          "name": "stdout",
          "text": [
            "[[ 1 -3]\n",
            " [ 6  4]]\n"
          ]
        }
      ]
    },
    {
      "cell_type": "code",
      "metadata": {
        "colab": {
          "base_uri": "https://localhost:8080/"
        },
        "id": "i75g_8zLTG5z",
        "outputId": "55b10bf9-905a-47d7-faa1-4206eebcf753"
      },
      "source": [
        "import numpy as np\n",
        "A = np.array([[-5,0],[4,1]])\n",
        "B = np.array([[6,-3],[2,3]])\n",
        "print(A-B)"
      ],
      "execution_count": 10,
      "outputs": [
        {
          "output_type": "stream",
          "name": "stdout",
          "text": [
            "[[-11   3]\n",
            " [  2  -2]]\n"
          ]
        }
      ]
    },
    {
      "cell_type": "code",
      "metadata": {
        "colab": {
          "base_uri": "https://localhost:8080/"
        },
        "id": "O8QiXSuyUNb3",
        "outputId": "5a0d011a-07a5-47c5-ceb6-06f4878fc7c8"
      },
      "source": [
        "import numpy as np\n",
        "B = np.array([[6,-3],[2,3]])\n",
        "B = np.array([[6,-3],[2,3]])\n",
        "print(B-B)"
      ],
      "execution_count": 11,
      "outputs": [
        {
          "output_type": "stream",
          "name": "stdout",
          "text": [
            "[[0 0]\n",
            " [0 0]]\n"
          ]
        }
      ]
    }
  ]
}