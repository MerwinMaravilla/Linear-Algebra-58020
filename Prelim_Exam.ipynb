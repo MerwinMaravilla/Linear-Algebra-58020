{
  "nbformat": 4,
  "nbformat_minor": 0,
  "metadata": {
    "colab": {
      "name": "Prelim Exam.ipynb",
      "provenance": [],
      "authorship_tag": "ABX9TyOMP0ibxjE8l9p6hYZCdeck",
      "include_colab_link": true
    },
    "kernelspec": {
      "name": "python3",
      "display_name": "Python 3"
    },
    "language_info": {
      "name": "python"
    }
  },
  "cells": [
    {
      "cell_type": "markdown",
      "metadata": {
        "id": "view-in-github",
        "colab_type": "text"
      },
      "source": [
        "<a href=\"https://colab.research.google.com/github/MerwinMaravilla/Linear-Algebra-58020/blob/main/Prelim_Exam.ipynb\" target=\"_parent\"><img src=\"https://colab.research.google.com/assets/colab-badge.svg\" alt=\"Open In Colab\"/></a>"
      ]
    },
    {
      "cell_type": "markdown",
      "metadata": {
        "id": "cXrhEIXRj4UX"
      },
      "source": [
        "Matrix C"
      ]
    },
    {
      "cell_type": "code",
      "metadata": {
        "colab": {
          "base_uri": "https://localhost:8080/"
        },
        "id": "9E7utvSEkSeF",
        "outputId": "e0e9981c-2eab-4e8d-e8f3-1b9882abdd8e"
      },
      "source": [
        "# import the important module in python\n",
        "import numpy as np\n",
        "         \n",
        "# make matrix with numpy\n",
        "A = np.matrix('[1, 5; 6, 4]')\n",
        "B = np.matrix('[2, 4; 7, 4]')\n",
        "         \n",
        "# applying matrix.diagonal() method\n",
        "C = A,B.diagonal()\n",
        "   \n",
        "print(C)"
      ],
      "execution_count": 8,
      "outputs": [
        {
          "output_type": "stream",
          "name": "stdout",
          "text": [
            "(matrix([[1, 5],\n",
            "        [6, 4]]), matrix([[2, 4]]))\n"
          ]
        }
      ]
    },
    {
      "cell_type": "markdown",
      "metadata": {
        "id": "UqGpS5Edk4FF"
      },
      "source": [
        "Question 2"
      ]
    },
    {
      "cell_type": "code",
      "metadata": {
        "colab": {
          "base_uri": "https://localhost:8080/"
        },
        "id": "a_lknCj-k4Z3",
        "outputId": "654fcd8a-c7ae-4904-e469-7ea1bfdf0b80"
      },
      "source": [
        "A = np.matrix('[1, 5; 6, 4]')\n",
        "B = np.matrix('[2, 4; 7, 4]')\n",
        "C = 2*A,B\n",
        "print(C)"
      ],
      "execution_count": 11,
      "outputs": [
        {
          "output_type": "stream",
          "name": "stdout",
          "text": [
            "(matrix([[ 2, 10],\n",
            "        [12,  8]]), matrix([[2, 4],\n",
            "        [7, 4]]))\n"
          ]
        }
      ]
    },
    {
      "cell_type": "markdown",
      "metadata": {
        "id": "KsHKPKMYk4jX"
      },
      "source": [
        "Question 3"
      ]
    },
    {
      "cell_type": "code",
      "metadata": {
        "colab": {
          "base_uri": "https://localhost:8080/"
        },
        "id": "DuX7DYaAk5gd",
        "outputId": "ff31e706-a283-4aad-c99e-b52d404ca1d4"
      },
      "source": [
        "#initialize arrays\n",
        "A = np.array([2,7,4])\n",
        "B = np.array([3,9,8])\n",
        "\n",
        "#compute cross product\n",
        "output = np.cross(A,B)\n",
        "print(output)"
      ],
      "execution_count": 4,
      "outputs": [
        {
          "output_type": "stream",
          "name": "stdout",
          "text": [
            "[20 -4 -3]\n"
          ]
        }
      ]
    }
  ]
}