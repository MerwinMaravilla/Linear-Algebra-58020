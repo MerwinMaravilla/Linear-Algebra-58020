{
  "nbformat": 4,
  "nbformat_minor": 0,
  "metadata": {
    "colab": {
      "name": "Practical Lab Exam 1.ipynb",
      "provenance": [],
      "authorship_tag": "ABX9TyMi9WtXLmSp9XteR/bNKxl8",
      "include_colab_link": true
    },
    "kernelspec": {
      "name": "python3",
      "display_name": "Python 3"
    },
    "language_info": {
      "name": "python"
    }
  },
  "cells": [
    {
      "cell_type": "markdown",
      "metadata": {
        "id": "view-in-github",
        "colab_type": "text"
      },
      "source": [
        "<a href=\"https://colab.research.google.com/github/MerwinMaravilla/Linear-Algebra-58020/blob/main/Practical_Lab_Exam_1.ipynb\" target=\"_parent\"><img src=\"https://colab.research.google.com/assets/colab-badge.svg\" alt=\"Open In Colab\"/></a>"
      ]
    },
    {
      "cell_type": "markdown",
      "metadata": {
        "id": "jmnpbDCLA9rf"
      },
      "source": [
        "Promblem 1"
      ]
    },
    {
      "cell_type": "code",
      "metadata": {
        "colab": {
          "base_uri": "https://localhost:8080/"
        },
        "id": "R7Fsc-AXBC5t",
        "outputId": "ab6007a0-d66e-4bde-a6de-86e1f3a57793"
      },
      "source": [
        "\n",
        "import numpy as np\n",
        "W = np.array([[1,-3],[2,-2],[3,1]])\n",
        "Y = np.array([[1,2],[9,0],[-1,2]])\n",
        "print(W*Y)"
      ],
      "execution_count": 8,
      "outputs": [
        {
          "output_type": "stream",
          "name": "stdout",
          "text": [
            "[[ 1 -6]\n",
            " [18  0]\n",
            " [-3  2]]\n"
          ]
        }
      ]
    },
    {
      "cell_type": "code",
      "metadata": {
        "colab": {
          "base_uri": "https://localhost:8080/"
        },
        "id": "WeozbQd-BFG0",
        "outputId": "35fab787-e10b-427f-a62c-a389b94b5406"
      },
      "source": [
        "\n",
        "import numpy as np\n",
        "Z = np.array([[0,1],[2,3]])\n",
        "\n",
        "print(Z+Z)"
      ],
      "execution_count": 2,
      "outputs": [
        {
          "output_type": "stream",
          "name": "stdout",
          "text": [
            "[[0 2]\n",
            " [4 6]]\n"
          ]
        }
      ]
    },
    {
      "cell_type": "code",
      "metadata": {
        "colab": {
          "base_uri": "https://localhost:8080/"
        },
        "id": "a_YbeXreIgHW",
        "outputId": "f7bb7cec-0418-45c4-fbab-9b504353bd94"
      },
      "source": [
        "\n",
        "X = np.array([3,2,1,-1,2,3,2-1,1])\n",
        "S = 3*x\n",
        "print(S)"
      ],
      "execution_count": 11,
      "outputs": [
        {
          "output_type": "stream",
          "name": "stdout",
          "text": [
            "[ 9  6  3 -3  6  9  3  3]\n"
          ]
        }
      ]
    },
    {
      "cell_type": "markdown",
      "metadata": {
        "id": "3LSVfo2NJDY6"
      },
      "source": [
        "Promblem 2"
      ]
    },
    {
      "cell_type": "code",
      "metadata": {
        "colab": {
          "base_uri": "https://localhost:8080/"
        },
        "id": "JcTttldPJKOO",
        "outputId": "e927f686-9cb0-4072-de1b-b9e2438c7f3a"
      },
      "source": [
        "W = np.array([[1,-3],[2,-2],[3,1]])\n",
        "Y = np.array([[1,2,0],[0,-1,2]])\n",
        "\n",
        "D = np.dot(Y,W)\n",
        "\n",
        "print(D*D)\n",
        "\n",
        "#Statement is not true"
      ],
      "execution_count": 43,
      "outputs": [
        {
          "output_type": "stream",
          "name": "stdout",
          "text": [
            "[[25 49]\n",
            " [16 16]]\n"
          ]
        }
      ]
    },
    {
      "cell_type": "code",
      "metadata": {
        "colab": {
          "base_uri": "https://localhost:8080/",
          "height": 251
        },
        "id": "326Jkl-YJRUn",
        "outputId": "68ab3fed-4c02-4b7b-dffb-e7a036b69551"
      },
      "source": [
        "W = np.array([[1,-3],[2,-2],[3,1]])\n",
        "Y = np.array([[1,2,9],[0,-1,2]])\n",
        "X = np.array([[3,2],[1-1],[2,3],[2-1],[1]])\n",
        "\n",
        "D = np.dot(W,Y)\n",
        "\n",
        "print(np.subtract(D,X))\n",
        "\n",
        "#Statement is true\n"
      ],
      "execution_count": 54,
      "outputs": [
        {
          "output_type": "stream",
          "name": "stderr",
          "text": [
            "/usr/local/lib/python3.7/dist-packages/ipykernel_launcher.py:3: VisibleDeprecationWarning: Creating an ndarray from ragged nested sequences (which is a list-or-tuple of lists-or-tuples-or ndarrays with different lengths or shapes) is deprecated. If you meant to do this, you must specify 'dtype=object' when creating the ndarray\n",
            "  This is separate from the ipykernel package so we can avoid doing imports until\n"
          ]
        },
        {
          "output_type": "error",
          "ename": "ValueError",
          "evalue": "ignored",
          "traceback": [
            "\u001b[0;31m---------------------------------------------------------------------------\u001b[0m",
            "\u001b[0;31mValueError\u001b[0m                                Traceback (most recent call last)",
            "\u001b[0;32m<ipython-input-54-a2aa30e62498>\u001b[0m in \u001b[0;36m<module>\u001b[0;34m()\u001b[0m\n\u001b[1;32m      5\u001b[0m \u001b[0mD\u001b[0m \u001b[0;34m=\u001b[0m \u001b[0mnp\u001b[0m\u001b[0;34m.\u001b[0m\u001b[0mdot\u001b[0m\u001b[0;34m(\u001b[0m\u001b[0mW\u001b[0m\u001b[0;34m,\u001b[0m\u001b[0mY\u001b[0m\u001b[0;34m)\u001b[0m\u001b[0;34m\u001b[0m\u001b[0;34m\u001b[0m\u001b[0m\n\u001b[1;32m      6\u001b[0m \u001b[0;34m\u001b[0m\u001b[0m\n\u001b[0;32m----> 7\u001b[0;31m \u001b[0mprint\u001b[0m\u001b[0;34m(\u001b[0m\u001b[0mnp\u001b[0m\u001b[0;34m.\u001b[0m\u001b[0msubtract\u001b[0m\u001b[0;34m(\u001b[0m\u001b[0mD\u001b[0m\u001b[0;34m,\u001b[0m\u001b[0mX\u001b[0m\u001b[0;34m)\u001b[0m\u001b[0;34m)\u001b[0m\u001b[0;34m\u001b[0m\u001b[0;34m\u001b[0m\u001b[0m\n\u001b[0m",
            "\u001b[0;31mValueError\u001b[0m: operands could not be broadcast together with shapes (3,3) (5,) "
          ]
        }
      ]
    },
    {
      "cell_type": "code",
      "metadata": {
        "colab": {
          "base_uri": "https://localhost:8080/"
        },
        "id": "y7rrYcx8JRdQ",
        "outputId": "bd9eacf0-a514-4b6d-9558-b0b9ad1910fa"
      },
      "source": [
        "W = np.array([[1,-3],[2,-2],[3,1]])\n",
        "Y = np.array([[1,2,0],[0,-1,2]])\n",
        "Z = np.array([[0,1],[2,3]])\n",
        "\n",
        "D = np.dot(Y,A)\n",
        "E = Z*Z\n",
        "\n",
        "#Statement is not true\n",
        "\n",
        "print(np.subtract(D,E))"
      ],
      "execution_count": 52,
      "outputs": [
        {
          "output_type": "stream",
          "name": "stdout",
          "text": [
            "[[ 5 -8]\n",
            " [ 0 -5]]\n"
          ]
        }
      ]
    }
  ]
}